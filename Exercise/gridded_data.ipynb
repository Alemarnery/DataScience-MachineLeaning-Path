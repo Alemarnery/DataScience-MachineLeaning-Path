{
 "cells": [
  {
   "cell_type": "markdown",
   "metadata": {},
   "source": [
    "I'm following this video tutorial https://www.youtube.com/watch?v=uCRkFwQqdJo&list=PLG19vXLQHvSAufDFgZEFAYQEwMJXklnQV&index=5 \n",
    "to improve my data Science skills\n"
   ]
  },
  {
   "cell_type": "code",
   "execution_count": null,
   "metadata": {
    "vscode": {
     "languageId": "plaintext"
    }
   },
   "outputs": [],
   "source": []
  }
 ],
 "metadata": {
  "language_info": {
   "name": "python"
  }
 },
 "nbformat": 4,
 "nbformat_minor": 2
}
