{
 "cells": [
  {
   "cell_type": "markdown",
   "metadata": {},
   "source": [
    "I'm following this video tutorial https://www.youtube.com/watch?v=uCRkFwQqdJo&list=PLG19vXLQHvSAufDFgZEFAYQEwMJXklnQV&index=5 \n",
    "to improve my data Science skills\n"
   ]
  },
  {
   "cell_type": "code",
   "execution_count": 57,
   "metadata": {},
   "outputs": [],
   "source": [
    "import os #operating system\n",
    "import numpy as np # Arrays and matrix math\n",
    "import matplotlib.pyplot as plt #plotting\n",
    "from scipy import stats  #Summary Statistics"
   ]
  },
  {
   "cell_type": "code",
   "execution_count": 58,
   "metadata": {},
   "outputs": [
    {
     "name": "stdout",
     "output_type": "stream",
     "text": [
      "Current directory: c:\\Users\\a00573844\\OneDrive - ONEVIRTUALOFFICE\\Desktop\\MasterPiece\\Python\\Data Science Basics in Python\n"
     ]
    }
   ],
   "source": [
    "cwd = os.getcwd()\n",
    "print(\"Current directory:\", cwd)\n",
    "os.chdir(\"c:/Users/a00573844/OneDrive - ONEVIRTUALOFFICE/Desktop/MasterPiece/Python/Data Science Basics in Python\") #set the working directory"
   ]
  },
  {
   "cell_type": "code",
   "execution_count": 59,
   "metadata": {},
   "outputs": [
    {
     "name": "stdout",
     "output_type": "stream",
     "text": [
      "porosity_id_array is a<class 'numpy.ndarray'>.\n",
      "array is a  [ 9.47058121  9.91782937  9.9798204  ... 10.76326531 10.30917151\n",
      " 10.86594983]\n"
     ]
    }
   ],
   "source": [
    "porosity_id_array = np.fromfile(\"./Data Sources/porosity_truth_map.dat\")\n",
    "print(\"porosity_id_array is a\" + str(type(porosity_id_array)) + '.')\n",
    "print(\"array is a \", str(porosity_id_array)  )"
   ]
  },
  {
   "cell_type": "code",
   "execution_count": 60,
   "metadata": {},
   "outputs": [
    {
     "data": {
      "text/plain": [
       "array([ 9.47058121,  9.91782937,  9.9798204 , ..., 10.76326531,\n",
       "       10.30917151, 10.86594983])"
      ]
     },
     "execution_count": 60,
     "metadata": {},
     "output_type": "execute_result"
    }
   ],
   "source": [
    "porosity_id_array\n"
   ]
  },
  {
   "cell_type": "code",
   "execution_count": 61,
   "metadata": {},
   "outputs": [
    {
     "data": {
      "text/plain": [
       "(10000,)"
      ]
     },
     "execution_count": 61,
     "metadata": {},
     "output_type": "execute_result"
    }
   ],
   "source": [
    "porosity_id_array.shape"
   ]
  },
  {
   "cell_type": "code",
   "execution_count": 62,
   "metadata": {},
   "outputs": [
    {
     "name": "stdout",
     "output_type": "stream",
     "text": [
      "The porosity map has a shape [[ 9.47058121  9.91782937  9.9798204  ...  8.08662197  7.99914997\n",
      "   7.67512324]\n",
      " [ 8.67648753  8.94498856  9.26749403 ...  9.1005366   8.91494382\n",
      "   8.7221251 ]\n",
      " [ 9.1385679   8.93357916  9.87751618 ...  8.43156592  9.24581619\n",
      "   8.53539139]\n",
      " ...\n",
      " [ 8.35588362  9.19257236  9.20702426 ... 10.6408045  12.38606115\n",
      "  12.62603869]\n",
      " [ 8.73277387  9.1499773   9.27700186 ... 11.11619583 11.35655368\n",
      "  11.88518884]\n",
      " [ 9.09635315  9.74859006 10.0117667  ... 10.76326531 10.30917151\n",
      "  10.86594983]]\n",
      "our 2D array has a numbers of x cells = 100 and y cells =  100\n"
     ]
    }
   ],
   "source": [
    "porosity_map = np.reshape(porosity_id_array,(100,100)  ) #Reshape the array to 100 x 100\n",
    "print(\"The porosity map has a shape\", str(porosity_map)    )\n",
    "\n",
    "ny = porosity_map.shape[0]\n",
    "nx = porosity_map.shape[1]\n",
    "\n",
    "print('our 2D array has a numbers of x cells =', str(nx), \"and y cells = \", str(ny)   )"
   ]
  }
 ],
 "metadata": {
  "kernelspec": {
   "display_name": "DS",
   "language": "python",
   "name": "python3"
  },
  "language_info": {
   "codemirror_mode": {
    "name": "ipython",
    "version": 3
   },
   "file_extension": ".py",
   "mimetype": "text/x-python",
   "name": "python",
   "nbconvert_exporter": "python",
   "pygments_lexer": "ipython3",
   "version": "3.12.7"
  }
 },
 "nbformat": 4,
 "nbformat_minor": 2
}
